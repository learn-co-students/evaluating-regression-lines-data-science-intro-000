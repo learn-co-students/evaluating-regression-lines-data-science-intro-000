{
 "cells": [
  {
   "cell_type": "markdown",
   "metadata": {},
   "source": [
    "# Evaluating regression lines"
   ]
  },
  {
   "cell_type": "markdown",
   "metadata": {},
   "source": [
    "### Learning Objectives"
   ]
  },
  {
   "cell_type": "markdown",
   "metadata": {},
   "source": [
    "* Understand what is meant by the errors of a regression line\n",
    "* Understand how to calculate the error at a given point\n",
    "* Understand how to calculate RSS and why we use it as a metric to evaluate a regression line\n",
    "* Understand the difference between RSS and its variation, the RMSE"
   ]
  },
  {
   "cell_type": "markdown",
   "metadata": {},
   "source": [
    "### Introduction"
   ]
  },
  {
   "cell_type": "markdown",
   "metadata": {},
   "source": [
    "So far we have seen how lines and formulas can estimate outputs given an input.  We can describe any straight line with two different variables: \n",
    "\n",
    "* $m$ -  the slope of the line, and \n",
    "* $b$ - the y-intercept\n",
    "\n",
    "So far we have been rather fast and loose with choosing a line to estimate our output - we simply drew a line between the first and last points of our data set.  Well today, we go further.  Here, we take our first step towards **training** our model to match our data.\n",
    "\n",
    "> The first step in training is to calculate our regression line's **accuracy** --  that is, how well our regression line matches our actual data.  Calculating a regression line's accuracy is the topic of this lesson.\n",
    "\n",
    "In future lessons, we will improve upon our regression line's accuracy, so that it better predicts an output."
   ]
  },
  {
   "cell_type": "markdown",
   "metadata": {},
   "source": [
    "### Determining Quality"
   ]
  },
  {
   "cell_type": "markdown",
   "metadata": {},
   "source": [
    "The first step towards calculating a regression line to predict an output is to calculate how well any regression line matches our data.  We need to calculate how accurate our regression line is.\n",
    "\n",
    "Let's find out what this means.  Below we have data that represents the budget and revenue of four shows, with `x` being the budget and `y` being the revenue."
   ]
  },
  {
   "cell_type": "code",
   "execution_count": 1,
   "metadata": {},
   "outputs": [
    {
     "data": {
      "text/plain": [
       "[{'x': 0, 'y': 100},\n",
       " {'x': 100, 'y': 150},\n",
       " {'x': 200, 'y': 600},\n",
       " {'x': 400, 'y': 700}]"
      ]
     },
     "execution_count": 1,
     "metadata": {},
     "output_type": "execute_result"
    }
   ],
   "source": [
    "first_show = {'x': 0, 'y': 100}\n",
    "second_show = {'x': 100, 'y': 150}\n",
    "third_show = {'x': 200, 'y': 600}\n",
    "fourth_show = {'x': 400, 'y': 700}\n",
    "\n",
    "shows = [first_show, second_show, third_show, fourth_show]\n",
    "shows"
   ]
  },
  {
   "cell_type": "markdown",
   "metadata": {},
   "source": [
    "> Run code above with shift + enter\n",
    "\n",
    "#### An initial regression line\n",
    "As we did in the last lab, let's draw a not-so-great regression line simply by drawing a line between our first and last points.  We can use our `build_regression_line` function to do so.  You can view the code directly [here](https://github.com/learn-co-curriculum/evaluating-regression-lines/blob/master/linear_equations.py).  \n",
    "> Eventually, we'll improve this regression line.  But first we need to see how good or bad a regression line is."
   ]
  },
  {
   "cell_type": "code",
   "execution_count": 2,
   "metadata": {},
   "outputs": [
    {
     "data": {
      "text/plain": [
       "{'b': 100.0, 'm': 1.5}"
      ]
     },
     "execution_count": 2,
     "metadata": {},
     "output_type": "execute_result"
    }
   ],
   "source": [
    "from linear_equations import build_regression_line\n",
    "x_values = list(map(lambda show: show['x'],shows))\n",
    "y_values = list(map(lambda show: show['y'],shows))\n",
    "regression_line = build_regression_line(x_values, y_values)\n",
    "regression_line"
   ]
  },
  {
   "cell_type": "markdown",
   "metadata": {},
   "source": [
    "We can plot our regression line as the following using the [plotting functions](https://github.com/learn-co-curriculum/evaluating-regression-lines/blob/master/graph.py) that we wrote previously:"
   ]
  },
  {
   "cell_type": "code",
   "execution_count": 3,
   "metadata": {},
   "outputs": [
    {
     "data": {
      "text/html": [
       "<script>requirejs.config({paths: { 'plotly': ['https://cdn.plot.ly/plotly-latest.min']},});if(!window.Plotly) {{require(['plotly'],function(plotly) {window.Plotly=plotly;});}}</script>"
      ],
      "text/vnd.plotly.v1+html": [
       "<script>requirejs.config({paths: { 'plotly': ['https://cdn.plot.ly/plotly-latest.min']},});if(!window.Plotly) {{require(['plotly'],function(plotly) {window.Plotly=plotly;});}}</script>"
      ]
     },
     "metadata": {},
     "output_type": "display_data"
    },
    {
     "data": {
      "text/html": [
       "<script>requirejs.config({paths: { 'plotly': ['https://cdn.plot.ly/plotly-latest.min']},});if(!window.Plotly) {{require(['plotly'],function(plotly) {window.Plotly=plotly;});}}</script>"
      ],
      "text/vnd.plotly.v1+html": [
       "<script>requirejs.config({paths: { 'plotly': ['https://cdn.plot.ly/plotly-latest.min']},});if(!window.Plotly) {{require(['plotly'],function(plotly) {window.Plotly=plotly;});}}</script>"
      ]
     },
     "metadata": {},
     "output_type": "display_data"
    },
    {
     "data": {
      "application/vnd.plotly.v1+json": {
       "data": [
        {
         "mode": "line",
         "name": "line function",
         "x": [
          0,
          100,
          200,
          400
         ],
         "y": [
          100,
          250,
          400,
          700
         ]
        },
        {
         "mode": "markers",
         "name": "data",
         "text": [],
         "x": [
          0,
          100,
          200,
          400
         ],
         "y": [
          100,
          150,
          600,
          700
         ]
        }
       ],
       "layout": {}
      },
      "text/html": [
       "<div id=\"d7d21533-8b86-44bb-9fd1-1a0b02d9d0ca\" style=\"height: 525px; width: 100%;\" class=\"plotly-graph-div\"></div><script type=\"text/javascript\">require([\"plotly\"], function(Plotly) { window.PLOTLYENV=window.PLOTLYENV || {};window.PLOTLYENV.BASE_URL=\"https://plot.ly\";Plotly.newPlot(\"d7d21533-8b86-44bb-9fd1-1a0b02d9d0ca\", [{\"x\": [0, 100, 200, 400], \"y\": [100.0, 250.0, 400.0, 700.0], \"mode\": \"line\", \"name\": \"line function\"}, {\"x\": [0, 100, 200, 400], \"y\": [100, 150, 600, 700], \"mode\": \"markers\", \"name\": \"data\", \"text\": []}], {}, {\"showLink\": true, \"linkText\": \"Export to plot.ly\"})});</script>"
      ],
      "text/vnd.plotly.v1+html": [
       "<div id=\"d7d21533-8b86-44bb-9fd1-1a0b02d9d0ca\" style=\"height: 525px; width: 100%;\" class=\"plotly-graph-div\"></div><script type=\"text/javascript\">require([\"plotly\"], function(Plotly) { window.PLOTLYENV=window.PLOTLYENV || {};window.PLOTLYENV.BASE_URL=\"https://plot.ly\";Plotly.newPlot(\"d7d21533-8b86-44bb-9fd1-1a0b02d9d0ca\", [{\"x\": [0, 100, 200, 400], \"y\": [100.0, 250.0, 400.0, 700.0], \"mode\": \"line\", \"name\": \"line function\"}, {\"x\": [0, 100, 200, 400], \"y\": [100, 150, 600, 700], \"mode\": \"markers\", \"name\": \"data\", \"text\": []}], {}, {\"showLink\": true, \"linkText\": \"Export to plot.ly\"})});</script>"
      ]
     },
     "metadata": {},
     "output_type": "display_data"
    }
   ],
   "source": [
    "from graph import m_b_trace, plot, trace_values\n",
    "from plotly.offline import iplot, init_notebook_mode\n",
    "init_notebook_mode(connected=True)\n",
    "data_trace = trace_values(x_values, y_values)\n",
    "regression_trace = m_b_trace(regression_line['m'], regression_line['b'], x_values)\n",
    "plot([regression_trace, data_trace])"
   ]
  },
  {
   "cell_type": "markdown",
   "metadata": {},
   "source": [
    "So that is what our regression line looks like.  And this the line translated into a function."
   ]
  },
  {
   "cell_type": "code",
   "execution_count": 4,
   "metadata": {},
   "outputs": [],
   "source": [
    "def sample_regression_formula(x):\n",
    "    return 1.5(x) + 100"
   ]
  },
  {
   "cell_type": "markdown",
   "metadata": {},
   "source": [
    "#### Assessing the regression line\n",
    "\n",
    "Ok, so now that we see what our regression line looks like, let's highlight how well our regression line matches our data."
   ]
  },
  {
   "cell_type": "markdown",
   "metadata": {},
   "source": [
    "![](./regression-scatter.png)"
   ]
  },
  {
   "cell_type": "markdown",
   "metadata": {},
   "source": [
    "> Let's interpret the chart above.  That first red line shows that our regression formula does not perfectly predict that first show.   \n",
    "> * Our actual data -- the second blue dot -- shows that when $x = 100$, $y =  150$.  \n",
    "> * However, our regression line predicts that at $x = 100$, $y = 250$.  \n",
    "\n",
    "> So **our regression line is off by 100, indicated by the length of the red line.** "
   ]
  },
  {
   "cell_type": "markdown",
   "metadata": {},
   "source": [
    "Each point where our regression line's estimated differs from the actual data is called an **error**.  And our red lines display the size of this error.  The length of the red line equals the size of the error.  \n",
    "* The **error** equals the difference between the *actual* value and the value *expected* by our model (that is, our regression line).  \n",
    "* error = actual - expected\n",
    "\n",
    "Now let's put this formula into practice.  The error is the actual value minus the expected value.  So at point $x = 100$, the actual $y$ is 150.  And at point x = 100, the expected value of $y$ is $250$.  So: \n",
    "* error = $150 - 250 = -100$.  \n",
    "\n",
    "If we did not have a graph to display this, we could calculate this error by using our formula for the regression line.  \n",
    "\n",
    "* Our regression formula is $y = 1.5x + 100$.  \n",
    "* Then when $x$ equals 100, the formula predicts $y = 1.5 * 100 + 100 = 250$.  \n",
    "* And we have the actual data of (100, 150).  So \n",
    "* `actual` - `expected` $ = 150 -250 = -100$."
   ]
  },
  {
   "cell_type": "markdown",
   "metadata": {},
   "source": [
    "### Refining our Terms"
   ]
  },
  {
   "cell_type": "markdown",
   "metadata": {},
   "source": [
    "Now that we have explained how to calculate an error given a regression line and data, let's learn some mathematical notation that let's us better express these concepts.  \n",
    "\n",
    "* We want to use notation to distinguish between two things: our expected $y$ values and our actual $y$ values.  \n",
    "\n",
    "#### Expected values\n",
    "\n",
    "So far we have defined our regression function as $y = mx + b$.  Where for a given value of $x$, we can calculate the value of $y$.  However, this is not totally accurate - as our regression line is not calculating the actual value of $y$ but the *expected* value of $y$. So let's indicate this, by changing our regression line formula to look like the following:\n",
    "\n",
    "* $\\hat{y} = \\hat{m}x + \\hat{b}$ "
   ]
  },
  {
   "cell_type": "markdown",
   "metadata": {},
   "source": [
    "Those little dashes over the $y$, $m$ and $b$ are called hats.  So our function reads as y-hat equals m-hat multiplied by $x$ plus b-hat.  These hats indicate that this formula does not give us the actual value of $y$, but simply our estimated value of $y$.  The hats also say that this estimated value of $y$ is based on our estimated values of $m$ and $b$. \n",
    "> Note that $x$ is not a predicted value.  This is because we are *providing* a value of $x$, not predicting it.  For example, we are providing an show's budget as an input, not predicting it.  So we are *providing* a value of $x$ and asking it to *predict* a value of $y$.  "
   ]
  },
  {
   "cell_type": "markdown",
   "metadata": {},
   "source": [
    "#### Actual values\n",
    "\n",
    "Now remember that we were given some real data as well.  This means that we do have actual points for $x$ and $y$, which look like the following."
   ]
  },
  {
   "cell_type": "code",
   "execution_count": 5,
   "metadata": {},
   "outputs": [
    {
     "data": {
      "text/plain": [
       "[{'x': 0, 'y': 100},\n",
       " {'x': 100, 'y': 150},\n",
       " {'x': 200, 'y': 600},\n",
       " {'x': 400, 'y': 700}]"
      ]
     },
     "execution_count": 5,
     "metadata": {},
     "output_type": "execute_result"
    }
   ],
   "source": [
    "first_show = {'x': 0, 'y': 100}\n",
    "second_show = {'x': 100, 'y': 150}\n",
    "third_show = {'x': 200, 'y': 600}\n",
    "fourth_show = {'x': 400, 'y': 700}\n",
    "\n",
    "shows = [first_show, second_show, third_show, fourth_show]\n",
    "shows"
   ]
  },
  {
   "cell_type": "markdown",
   "metadata": {},
   "source": [
    "So how do we represent our actual values of $y$? Here's how: $y$.  No extra ink is needed.\n",
    "\n",
    "Ok, so now we know the following:  \n",
    " * **$y$**: actual y  \n",
    " * **$\\hat{y}$**: estimated y\n",
    " \n",
    "Finally, we use the Greek letter $\\varepsilon$, epsilon, to indicate error. So we say that \n",
    "* $\\varepsilon = y - \\hat{y}$.  \n",
    "\n",
    "We can be a little more precise by saying we are talking about error at any specific point, where $y$ and $\\hat{y}$ are at that $x$ value.  This is written as: \n",
    "\n",
    "$\\varepsilon _{i}$ = $y_{i}$ - $\\hat{y}_{i}$"
   ]
  },
  {
   "cell_type": "markdown",
   "metadata": {},
   "source": [
    "Those little $i$s represent an index value, as in our first, second or third movie.  Now, applying this to a specific point of say when $ x = 100 $, we can say:\n",
    "* $\\varepsilon _{x=100} = y_{x=100}$ - $\\hat{y}_{x=100} = 150 - 250 = -100$"
   ]
  },
  {
   "cell_type": "markdown",
   "metadata": {},
   "source": [
    "### Calculating and representing total error"
   ]
  },
  {
   "cell_type": "markdown",
   "metadata": {},
   "source": [
    "We now know how to calculate the error at a given value of $x$, $x_i$, by using the formula, $\\varepsilon_i$ = $y_i - \\hat{y_i}$.  Again, this is helpful at describing how well our regression line predicts the value of $y$ at a specific point.  \n",
    "\n",
    "However, we want to see well our regression describes our dataset in general - not just at a single given point.  Let's move beyond calculating the error at a given point to describing the total error of the regression line across all of our data.  \n",
    "\n",
    "As an initial approach, we simply calculate the total error by summing the errors, $y - \\hat{y}$, for every point in our dataset.  \n",
    "\n",
    "Total Error = $\\sum_{i=1}^{n} y_i - \\hat{y_i}$\n",
    "\n",
    "This isn't bad, but we'll need to modify this approach slightly. To understand why, let's take another look at our data."
   ]
  },
  {
   "cell_type": "markdown",
   "metadata": {},
   "source": [
    "![](./regression-scatter.png)"
   ]
  },
  {
   "cell_type": "markdown",
   "metadata": {
    "collapsed": true
   },
   "source": [
    "The errors at $x = 100$ and $x = 200$ begin to cancel each other out. \n",
    "\n",
    "* $\\varepsilon_{x=100}= 150 - 250 = -100$\n",
    "* $\\varepsilon_{x=200} = 600 - 400 = 200$  \n",
    "* $\\varepsilon_{x=100} + \\varepsilon_{x=200} =  -100 + 200 = 100 $\n",
    "\n",
    "We don't want the errors to cancel each other out!  To resolve this issue, we square the errors to ensure that we are always summing positive numbers.\n",
    "\n",
    "${\\varepsilon_i^2}$ = $({y_i - \\hat{y_i}})^2$\n",
    "\n",
    "So given a list of points with coordinates (x, y), we can calculate the squared error of each of the points, and sum them up.  This is called our ** residual sum of squares ** (RSS).  Using our sigma notation, our formula RSS looks like: \n",
    "\n",
    "$ RSS  = \\sum_{i = 1}^n ({y_i - \\hat{y_i}})^2 = \\sum_{i = 1}^n \\varepsilon_i^2 $\n",
    "\n",
    "> Residual Sum of Squares is just what it sounds like.  A residual is simply the error -- the difference between the actual data and what our model expects.  We square each residual and add them together to get RSS.\n",
    "\n",
    "Let's calculate the RSS for our regression line and associated data.  In our example, we have actual $x$ and $y$ values at the following points: \n",
    "* $ (0, 100), (100, 150), (200, 600), (400, 700) $.  \n",
    "\n",
    "And we can calculate the values of $\\hat{y} $ as $\\hat{y} = 1.5 *x + 100 $, for each of those four points.  So this gives us:\n",
    "\n",
    "$RSS = (0 - 0)^2 + (150 - 250)^2 + (600 - 400)^2 + (700 - 700)^2$ \n",
    "\n",
    "which reduces to  \n",
    "\n",
    "$RSS = 0^2 + (-100)^2 + 200^2 + 0^2 = 50,000$"
   ]
  },
  {
   "cell_type": "markdown",
   "metadata": {},
   "source": [
    "Now we have one number, the RSS, that represents how well our regression line fits the data.  We got there by calculating the errors at each of our provided points, and then squaring the errors so that our errors are always positive."
   ]
  },
  {
   "cell_type": "markdown",
   "metadata": {},
   "source": [
    "### Root Mean Squared Error"
   ]
  },
  {
   "cell_type": "markdown",
   "metadata": {},
   "source": [
    "Root Mean Squared Error, is just a variation on RSS.  Essentially, it tries to answer the question of what is the \"typical\" error of our model versus each data point.  To do this, it scales down the size of that large RSS number. So where:\n",
    "\n",
    "* $ RSS  = \\sum_{i = 1}^n ({y_i - \\hat{y_i}})^2$\n",
    "\n",
    "\n",
    "* $RMSE = \\frac{\\sqrt{RSS}}{{n}} $\n",
    "> Where n equals the number of elements in the data set.\n",
    "\n",
    "Now let's walk through the reasoning for each step. \n",
    "\n",
    "#### Taking the square root\n",
    "The first thing that makes our RSS large is the fact that we square each error.  Remember that we squared each error, because we didn't want positive errors and negative errors to cancel out.  Remember, we said that each place where we had a negative error, as in :\n",
    "* $actual - expected = -100$, \n",
    "* we would square the error, such that $(-100)^2 = 10,000$.\n",
    "\n",
    "Remember that we square each of our errors, which led to:\n",
    "\n",
    "* $RSS = 0^2 + (-100)^2 + 200^2 + 0^2 = 50,000$"
   ]
  },
  {
   "cell_type": "markdown",
   "metadata": {
    "collapsed": true
   },
   "source": [
    "With RMSE, after squaring and adding the error we then take the square root of that sum."
   ]
  },
  {
   "cell_type": "markdown",
   "metadata": {},
   "source": [
    "$\\sqrt{0^2 + (-100)^2 + 200^2 + 0^2} = \\sqrt{50,000} = 223.6$"
   ]
  },
  {
   "cell_type": "markdown",
   "metadata": {},
   "source": [
    "#### Taking the Mean"
   ]
  },
  {
   "cell_type": "markdown",
   "metadata": {},
   "source": [
    "Now in addition to accounting for the square of each error, RMSE accounts for one other thing as well.  Notice that with each additional data point in our data set, our error will tend to increase.  So with an increased dataset, RSS will increase.  To counteract the effect of RSS increasing with the dataset and not just accuracy, the formula for RMSE divides by the size of the dataset.  So continuing along with our above example:"
   ]
  },
  {
   "cell_type": "markdown",
   "metadata": {},
   "source": [
    "$ RMSE = \\frac{\\sqrt{0^2 + (-100)^2 + 200^2 + 0^2}}{4} = \\frac{\\sqrt{50,000}}{4} = \\frac{223.6}{4} = 55.9$"
   ]
  },
  {
   "cell_type": "markdown",
   "metadata": {},
   "source": [
    "And generically, we say that:"
   ]
  },
  {
   "cell_type": "markdown",
   "metadata": {},
   "source": [
    "$ RMSE  = \\frac{\\sqrt{\\sum_{i = 1}^n ({y_i - \\hat{y_i}})^2}}{n}$"
   ]
  },
  {
   "cell_type": "markdown",
   "metadata": {},
   "source": [
    "So the RMSE gives a typical estimate of how far each measurement is from the expectation.  So this is \"typical error\" as opposed to an overall error."
   ]
  },
  {
   "cell_type": "markdown",
   "metadata": {},
   "source": [
    "### Summary "
   ]
  },
  {
   "cell_type": "markdown",
   "metadata": {},
   "source": [
    "Before this lesson, we simply assumed that our regression line made good predictions of $y$ for given values of $x$.  In this lesson, we learned a metric that tells us how well our regression line fits our actual data.  To do this, we started looking at the error at a given point, and defined error as the actual value of $y$ minus the expected value of $y$ from our regression line.  Then we were able to determine how well our regression line describes the entire dataset by squaring the errors at each point (to eliminate negative errors), and adding these squared errors.  This is called the Residual Sum of Squares (RSS).  This is our metric for describing how well our regression line fits our data.  Lastly, we learned how the RMSE tells us the \"typical error\" by dividing the square root of the RSS by the number of elements in our dataset."
   ]
  }
 ],
 "metadata": {
  "kernelspec": {
   "display_name": "Python 3",
   "language": "python",
   "name": "python3"
  },
  "language_info": {
   "codemirror_mode": {
    "name": "ipython",
    "version": 3
   },
   "file_extension": ".py",
   "mimetype": "text/x-python",
   "name": "python",
   "nbconvert_exporter": "python",
   "pygments_lexer": "ipython3",
   "version": "3.6.4"
  }
 },
 "nbformat": 4,
 "nbformat_minor": 2
}
